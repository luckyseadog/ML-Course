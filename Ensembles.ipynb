{
 "cells": [
  {
   "cell_type": "markdown",
   "metadata": {},
   "source": [
    "# Случайные леса\n",
    "__Суммарное количество баллов: 10__\n",
    "\n",
    "В этом задании вам предстоит реализовать ансамбль деревьев решений, известный как случайный лес, применить его к публичным данным и сравнить его эффективность с ансамблями из самых популярных библиотек."
   ]
  },
  {
   "cell_type": "code",
   "execution_count": 609,
   "metadata": {},
   "outputs": [],
   "source": [
    "from sklearn.model_selection import train_test_split\n",
    "import numpy as np\n",
    "import pandas as pd\n",
    "import random\n",
    "import matplotlib.pyplot as plt\n",
    "import matplotlib\n",
    "import copy"
   ]
  },
  {
   "cell_type": "markdown",
   "metadata": {},
   "source": [
    "Реализуем сам Random Forest. Идея очень простая: строим `n` деревьев, а затем берем модальное предсказание. Используйте реализацию дерева из HW3.\n",
    "\n",
    "#### Параметры конструктора\n",
    "`n_estimators` - количество используемых для предсказания деревьев.\n",
    "\n",
    "Остальное - параметры деревьев.\n",
    "\n",
    "#### Методы\n",
    "`fit(X, y)` - строит `n_estimators` деревьев по выборке `X`.\n",
    "\n",
    "`predict(X)` - для каждого элемента выборки `X` возвращает самый частый класс, который предсказывают для него деревья."
   ]
  },
  {
   "cell_type": "code",
   "execution_count": 649,
   "metadata": {},
   "outputs": [],
   "source": [
    "import random\n",
    "\n",
    "from sklearn.model_selection import train_test_split\n",
    "\n",
    "from sklearn.metrics import accuracy_score, recall_score, precision_score\n",
    "\n",
    "from sklearn.neighbors import KNeighborsClassifier\n",
    "\n",
    "\n",
    "DATA_PATH_X = '/Users/vasilijdronov/Machine learning/x_spam_train.csv'\n",
    "DATA_PATH_Y = '/Users/vasilijdronov/Machine learning/y_spam_train.csv'\n",
    "DATA_PATH_X_test = '/Users/vasilijdronov/Machine learning/x_spam_test.csv'\n",
    "\n",
    "x_spam_train = pd.read_csv(DATA_PATH_X)\n",
    "y_spam_train = pd.read_csv(DATA_PATH_Y)\n",
    "x_spam_test = pd.read_csv(DATA_PATH_X_test)\n",
    "\n",
    "\n",
    "\n",
    "#Ниже, чтобы проверить, как работают деревья, для дз не нужно\n",
    "x_train, x_test, y_train, y_test = train_test_split(x_spam_train, y_spam_train, test_size=0.3, random_state = 42)\n",
    "\n",
    "y_train_ex, y_train_id = list(y_train['Expected']), list(y_train['Id'])\n",
    "y_test_ex, y_test_id = list(y_test['Expected']), list(y_test['Id'])\n",
    "del x_train['Id']\n",
    "del x_test['Id']\n"
   ]
  },
  {
   "cell_type": "code",
   "execution_count": 611,
   "metadata": {},
   "outputs": [],
   "source": [
    "#проверка, как работают деревья\n",
    "\n",
    "from sklearn import tree\n",
    "tr = tree.DecisionTreeClassifier(criterion='entropy', max_depth=5, min_samples_leaf=3)\n",
    "tr.fit(x_train, y_train_ex)\n",
    "\n",
    "\n",
    "pred = tr.predict_proba(x_test)\n",
    "\n",
    "\n"
   ]
  },
  {
   "cell_type": "code",
   "execution_count": 612,
   "metadata": {},
   "outputs": [],
   "source": [
    "class RandomForestClassifier:\n",
    "    def __init__(self, max_depth=None, min_samples_leaf=1, criterion='gini', max_features=\"auto\", n_estimators=10): #заменил критерий\n",
    "        self.max_depth = max_depth\n",
    "        self.min_samples_leaf = min_samples_leaf\n",
    "        self.criterion = criterion\n",
    "        self.max_features = max_features\n",
    "        self.n_estimators = n_estimators\n",
    "\n",
    "    \n",
    "    def fit(self, X, y):\n",
    "        self.out_of_bag = []\n",
    "        self.roots = []\n",
    "        m = int(X.shape[0]**0.5)\n",
    "        for i in range(self.n_estimators): \n",
    "            if self.max_features == 'auto':\n",
    "                new_X = X.copy() # надеюсь root после изменения не измениться в массиве\n",
    "            else:\n",
    "                new_X = X.sample(n=self.max_features, axis='columns')\n",
    "            df = new_X.copy()\n",
    "            df['y'] = y\n",
    "            dff = df.sample(n=m, replace=True)\n",
    "            \n",
    "            self.out_of_bag.append(df.loc[list(df.index.difference(dff.index))]) #добавил почему не работало iloc\n",
    "            \n",
    "            \n",
    "            sub_X = dff\n",
    "            sub_y = dff['y']\n",
    "            del sub_X['y']\n",
    "            root = tree.DecisionTreeClassifier(max_depth=self.max_depth, min_samples_leaf=self.min_samples_leaf, criterion=self.criterion)\n",
    "            root.fit(sub_X, sub_y)\n",
    "            self.roots.append(root)\n",
    "    \n",
    "    def predict(self, X):\n",
    "        flag = True\n",
    "        for tr in self.roots:\n",
    "            if flag:\n",
    "                predictions = pd.DataFrame(tr.predict_proba(X)) #заменил на list + Predict_proba\n",
    "                flag = False\n",
    "            else:\n",
    "                predictions += pd.DataFrame(tr.predict_proba(X))\n",
    "        predictions /= len(self.roots)\n",
    "        return predictions"
   ]
  },
  {
   "cell_type": "code",
   "execution_count": 613,
   "metadata": {},
   "outputs": [],
   "source": [
    "#так как мы перешли на вероятности, функция для перевода в hard-prediction\n",
    "\n",
    "def to_readable_prediction(X, t):\n",
    "    ans = []\n",
    "    for i in range(len(X)):\n",
    "        if X.iloc[i][1] >= t:\n",
    "            ans.append(1)\n",
    "        else:\n",
    "            ans.append(0)\n",
    "    return ans"
   ]
  },
  {
   "cell_type": "code",
   "execution_count": 614,
   "metadata": {},
   "outputs": [
    {
     "name": "stdout",
     "output_type": "stream",
     "text": [
      "0.8813405797101449\n",
      "0.7641509433962265\n",
      "0.9126760563380282\n"
     ]
    }
   ],
   "source": [
    "#Проверка как работает лес\n",
    "\n",
    "tre = RandomForestClassifier(criterion='entropy', max_depth=2, min_samples_leaf=3, max_features='auto', n_estimators=100)\n",
    "tre.fit(x_train, y_train_ex)\n",
    "\n",
    "pred = tre.predict(x_test)\n",
    "\n",
    "to_readable_prediction(pred, 0.5)\n",
    "from sklearn.metrics import accuracy_score, recall_score, precision_score\n",
    "\n",
    "print(accuracy_score(y_test['Expected'], to_readable_prediction(pred, 0.5)))\n",
    "print(recall_score(y_test['Expected'], to_readable_prediction(pred, 0.5)))\n",
    "print(precision_score(y_test['Expected'], to_readable_prediction(pred, 0.5)))\n",
    "\n",
    "\n"
   ]
  },
  {
   "cell_type": "markdown",
   "metadata": {},
   "source": [
    "### Задание 3 (2 балла)\n",
    "Оптимизируйте по `AUC` на кроссвалидации (размер валидационной выборки - 20%) параметры своей реализации `Random Forest`: \n",
    "\n",
    "максимальную глубину деревьев из [2, 3, 5, 7, 10], количество деревьев из [5, 10, 20, 30, 50, 100]. \n",
    "\n",
    "Постройте `ROC` кривую (и выведите `AUC` и `accuracy`) для лучшего варианта.\n",
    "\n",
    "Подсказка: можно построить сразу 100 деревьев глубины 10, а потом убирать деревья и\n",
    "глубину."
   ]
  },
  {
   "cell_type": "code",
   "execution_count": 637,
   "metadata": {},
   "outputs": [],
   "source": [
    "def pure(X):\n",
    "    x_copy = X.copy()\n",
    "    if 'Id' in x_copy.columns:\n",
    "        del x_copy['Id']\n",
    "    if 'y' in x_copy.columns:\n",
    "        del x_copy['y']\n",
    "    return x_copy"
   ]
  },
  {
   "cell_type": "code",
   "execution_count": 638,
   "metadata": {},
   "outputs": [
    {
     "name": "stdout",
     "output_type": "stream",
     "text": [
      "0.9423665298742817 (3, 30)\n",
      "Accuracy:  0.907608695652174\n"
     ]
    }
   ],
   "source": [
    "import itertools\n",
    "from sklearn.metrics import roc_auc_score\n",
    "\n",
    "def plot_roc_curve(y_test, p_pred):\n",
    "    positive_samples = sum(1 for y in y_test if y == 0)\n",
    "    tpr = []\n",
    "    fpr = []\n",
    "    for w in np.arange(-0.01, 1.02, 0.01):\n",
    "        y_pred = [(0 if p.get(0, 0) > w else 1) for p in p_pred]\n",
    "        tpr.append(sum(1 for yp, yt in zip(y_pred, y_test) if yp == 0 and yt == 0) / positive_samples)\n",
    "        fpr.append(sum(1 for yp, yt in zip(y_pred, y_test) if yp == 0 and yt != 0) / (len(y_test) - positive_samples))\n",
    "    plt.figure(figsize = (7, 7))\n",
    "    plt.plot(fpr, tpr)\n",
    "    plt.plot([0, 1], [0, 1], linestyle=\"--\")\n",
    "    plt.xlabel(\"False positive rate\")\n",
    "    plt.ylabel(\"True positive rate\")\n",
    "    plt.xlim(-0.01, 1.01)\n",
    "    plt.ylim(-0.01, 1.01)\n",
    "    plt.tight_layout()\n",
    "    plt.show()\n",
    "\n",
    "df = x_spam_train.copy()\n",
    "df['y'] = y_spam_train['Expected']\n",
    "df = df.sample(frac=1)\n",
    "k_rows = int(len(df)/5)\n",
    "frames = [df.iloc[i*k_rows:(i+1)*k_rows].copy() for i in range(5)] # оставшихся данных нет\n",
    "\n",
    "        \n",
    "av_best_auc = 0\n",
    "hp = None\n",
    "for i in itertools.product([2, 3, 5, 7, 10],[5, 10, 20, 30, 50, 100]):\n",
    "    validation = [0,1,2,3]\n",
    "    av_auc = 0\n",
    "    for j in range(4):\n",
    "        validation.remove(j)\n",
    "        DFT = pd.concat([frames[k] for k in validation])\n",
    "        tre = RandomForestClassifier(i[0], 4, 'gini', 'auto', i[1])\n",
    "        tre.fit(pure(DFT), DFT['y'])\n",
    "        pred = tre.predict(pure(frames[j]))\n",
    "        auc = roc_auc_score(frames[j]['y'], pred[1])\n",
    "        av_auc += auc\n",
    "        validation = [0,1,2,3]\n",
    "    av_auc /= 4\n",
    "    if av_auc > av_best_auc:\n",
    "        av_best_auc = av_auc\n",
    "        hp = i\n",
    "print(av_best_auc, hp)\n",
    "\n",
    "DFT = pd.concat([frames[k] for k in [0,1,2,3]])\n",
    "\n",
    "\n",
    "tre = RandomForestClassifier(10, 4, 'gini', 'auto', 50)\n",
    "tre.fit(pure(DFT), DFT['y'])\n",
    "pred = tre.predict(pure(frames[4]))\n",
    "\n",
    "print('Accuracy: ', accuracy_score(frames[4]['y'], to_readable_prediction(pred, 0.5)))\n",
    "\n",
    "\n",
    "\n",
    "        \n",
    "        \n",
    "\n",
    "            \n",
    "                    \n",
    "        \n",
    "    "
   ]
  },
  {
   "cell_type": "code",
   "execution_count": 639,
   "metadata": {},
   "outputs": [
    {
     "data": {
      "image/png": "[encoded data removed]",
      "text/plain": [
       "<Figure size 504x504 with 1 Axes>"
      ]
     },
     "metadata": {
      "needs_background": "light"
     },
     "output_type": "display_data"
    }
   ],
   "source": [
    "def make_dic(X):\n",
    "    ans = []\n",
    "    for i in range(len(pred)):\n",
    "        ans.append({0:pred.iloc[i][0], 1:pred.iloc[i][1]})\n",
    "    return ans\n",
    "\n",
    "#list(frames[4]['y'])\n",
    "\n",
    "#make_dic(pred)\n",
    "\n",
    "plot_roc_curve(frames[4]['y'], make_dic(pred))\n",
    "#print(accuracy_score(frames[4]['y'], to_readable_prediction(pred, 0.5)))\n",
    "#print(recall_score(frames[4]['y'], to_readable_prediction(pred, 0.5)))\n",
    "#print(precision_score(frames[4]['y'], to_readable_prediction(pred, 0.5)))\n",
    "\n"
   ]
  },
  {
   "cell_type": "markdown",
   "metadata": {},
   "source": [
    "Часто хочется понимать, насколько большую роль играет тот или иной признак для предсказания класса объекта. Есть различные способы посчитать его важность. Один из простых способов сделать это для Random Forest выглядит так:\n",
    "1. Посчитать out-of-bag ошибку предсказания `err_oob` (https://en.wikipedia.org/wiki/Out-of-bag_error)\n",
    "2. Перемешать значения признака `j` у объектов выборки (у каждого из объектов изменится значение признака `j` на какой-то другой)\n",
    "3. Посчитать out-of-bag ошибку (`err_oob_j`) еще раз.\n",
    "4. Оценкой важности признака `j` для одного дерева будет разность `err_oob_j - err_oob`, важность для всего леса считается как среднее значение важности по деревьям.\n",
    "\n",
    "Реализуйте функцию `feature_importance`, которая принимает на вход Random Forest и возвращает массив, в котором содержится важность для каждого признака."
   ]
  },
  {
   "cell_type": "code",
   "execution_count": 643,
   "metadata": {},
   "outputs": [],
   "source": [
    "\n",
    "\n",
    "def feature_importance(rfc):\n",
    "    ans = [[] for i in range(len(rfc.roots))]\n",
    "    for i in range(len(rfc.roots)):\n",
    "        \n",
    "        pred = rfc.roots[i].predict(pure(rfc.out_of_bag[i]))\n",
    "        ans[i].append(accuracy_score(rfc.out_of_bag[i]['y'], pred))\n",
    "        df = rfc.out_of_bag[i].copy()      \n",
    "        for column in pure(rfc.out_of_bag[i]).columns:\n",
    "            acc1 = df.copy()\n",
    "            acc2 = acc1[column].sample(frac=1)\n",
    "            acc2.index = acc1.index\n",
    "            acc1[column] = acc2\n",
    "            pred = rfc.roots[i].predict(pure(acc1))   \n",
    "            ans[i].append(accuracy_score(rfc.out_of_bag[i]['y'], pred))\n",
    "        for j in range(1, len(ans[i])):\n",
    "            ans[i][j] = abs(ans[i][j] - ans[i][0])\n",
    "    \n",
    "    for_mean = pd.DataFrame(ans)\n",
    "\n",
    "    means = list(for_mean.mean())[1:]\n",
    "    return means\n",
    "        \n",
    "    \n",
    "\n",
    "def most_important_features(importance, names, k=20):\n",
    "    # Выводит названия k самых важных признаков\n",
    "    idicies = np.argsort(importance)[::-1][:k]\n",
    "    return np.array(names)[idicies]"
   ]
  },
  {
   "cell_type": "markdown",
   "metadata": {},
   "source": [
    "Протестируйте решение на простом синтетическом наборе данных. В результате должна получиться точность `1.0`, наибольшее значение важности должно быть у признака с индексом `4`, признаки с индексами `2` и `3`  должны быть одинаково важны, а остальные признаки - не важны совсем."
   ]
  },
  {
   "cell_type": "code",
   "execution_count": 605,
   "metadata": {},
   "outputs": [
    {
     "name": "stdout",
     "output_type": "stream",
     "text": [
      "     0  1  2  3  4  5\n",
      "0    0  0  0  1  0  1\n",
      "1    0  0  0  0  0  0\n",
      "2    0  0  0  0  1  1\n",
      "3    1  1  1  0  0  0\n",
      "4    0  0  0  0  0  1\n",
      "..  .. .. .. .. .. ..\n",
      "995  1  0  0  0  1  1\n",
      "996  1  1  0  1  0  0\n",
      "997  0  1  0  0  0  1\n",
      "998  1  0  0  0  1  1\n",
      "999  0  1  1  0  0  1\n",
      "\n",
      "[1000 rows x 6 columns]\n",
      "Accuracy: 1.0\n",
      "Importance: [0.0001031991744066041, 0.00017543859649122752, 0.18925614775331717, 0.19098927679420602, 0.44220066342999453, 5.15995872033026e-05]\n",
      "Importance: [4 3 2 5 1 0]\n"
     ]
    }
   ],
   "source": [
    "def to_readable_prediction2(X):\n",
    "    ans = []\n",
    "    for row in range(len(X)):\n",
    "        ans.append(X.loc[row].argmax())\n",
    "    return ans\n",
    "\n",
    "def synthetic_dataset(size):\n",
    "    X = [(np.random.randint(0, 2), np.random.randint(0, 2), i % 6 == 3, \n",
    "          i % 6 == 0, i % 3 == 2, np.random.randint(0, 2)) for i in range(size)]\n",
    "    y = [i % 3 for i in range(size)]\n",
    "    return np.array(X), np.array(y)\n",
    "\n",
    "X, y = synthetic_dataset(1000)\n",
    "print(pd.DataFrame(X))\n",
    "rfc = RandomForestClassifier(n_estimators=100)\n",
    "rfc.fit(pd.DataFrame(X), pd.DataFrame(y))\n",
    "pr = rfc.predict(pd.DataFrame(X))\n",
    "\n",
    "print(\"Accuracy:\", np.mean(to_readable_prediction2(rfc.predict(pd.DataFrame(X))) == y))\n",
    "print(\"Importance:\", feature_importance(rfc))\n",
    "print(\"Importance:\", most_important_features(feature_importance(rfc), range(6), k=6))\n"
   ]
  },
  {
   "cell_type": "code",
   "execution_count": 653,
   "metadata": {},
   "outputs": [
    {
     "data": {
      "text/plain": [
       "array([51, 52, 20,  6, 55])"
      ]
     },
     "execution_count": 653,
     "metadata": {},
     "output_type": "execute_result"
    }
   ],
   "source": [
    "forest = RandomForestClassifier(10, 4, 'gini', 'auto', 50)\n",
    "forest.fit(pure(x_spam_train), pure(y_spam_train))\n",
    "most_important_features(feature_importance(forest), range(57), k=5)"
   ]
  },
  {
   "cell_type": "markdown",
   "metadata": {},
   "source": [
    "Проверьте, какие признаки важны для датасета spam? (Используйте файлы x_spam_train и y_spam_train)"
   ]
  },
  {
   "cell_type": "markdown",
   "metadata": {},
   "source": [
    "Самые важные: 51, 52, 20, 6, 55(в проядке убывания важности)"
   ]
  },
  {
   "cell_type": "markdown",
   "metadata": {},
   "source": [
    "1. Обучите модель на всех данных из x_spam_train и y_spam_train.\n",
    "2. Сделайте submit своего решения и получите значение f1_score не менее 0.6"
   ]
  },
  {
   "cell_type": "code",
   "execution_count": 660,
   "metadata": {},
   "outputs": [],
   "source": [
    "DATA_PATH_test = '/Users/vasilijdronov/Machine learning/x_spam_test.csv'\n",
    "test = pd.read_csv(DATA_PATH_test)\n",
    "test\n",
    "pred = to_readable_prediction(forest.predict(pure(test)), 0.5)\n"
   ]
  },
  {
   "cell_type": "code",
   "execution_count": 661,
   "metadata": {
    "pycharm": {
     "name": "#%%\n"
    }
   },
   "outputs": [],
   "source": [
    "submission = pd.DataFrame(columns = [\"Id\", \"Expected\"])\n",
    "submission[\"Id\"] = test[\"Id\"]\n",
    "submission[\"Expected\"] = pred\n",
    "submission.to_csv('submission.csv', index=False)"
   ]
  },
  {
   "cell_type": "markdown",
   "metadata": {},
   "source": [
    "В качестве альтернативы попробуем библиотечные реализации ансамблей моделей. \n",
    "\n",
    "1. [CatBoost](https://catboost.ai/docs/)\n",
    "2. [XGBoost](https://xgboost.readthedocs.io/en/latest/)\n",
    "3. [LightGBM](https://lightgbm.readthedocs.io/en/latest/)\n"
   ]
  },
  {
   "cell_type": "markdown",
   "metadata": {},
   "source": [
    "Установите необходимые библиотеки. \n",
    "Возможно, потребуется установка дополнительных пакетов."
   ]
  },
  {
   "cell_type": "code",
   "execution_count": 662,
   "metadata": {},
   "outputs": [
    {
     "name": "stdout",
     "output_type": "stream",
     "text": [
      "Collecting lightgbm\n",
      "  Downloading lightgbm-3.3.0-py3-none-macosx_10_14_x86_64.macosx_10_15_x86_64.macosx_11_0_x86_64.whl (1.2 MB)\n",
      "\u001b[K     |████████████████████████████████| 1.2 MB 2.7 MB/s eta 0:00:01\n",
      "\u001b[?25hRequirement already satisfied: wheel in /Users/vasilijdronov/opt/miniconda3/lib/python3.7/site-packages (from lightgbm) (0.34.2)\n",
      "Requirement already satisfied: scipy in /Users/vasilijdronov/opt/miniconda3/lib/python3.7/site-packages (from lightgbm) (1.7.1)\n",
      "Requirement already satisfied: numpy in /Users/vasilijdronov/opt/miniconda3/lib/python3.7/site-packages (from lightgbm) (1.19.1)\n",
      "Requirement already satisfied: scikit-learn!=0.22.0 in /Users/vasilijdronov/opt/miniconda3/lib/python3.7/site-packages (from lightgbm) (0.24.2)\n",
      "Requirement already satisfied: threadpoolctl>=2.0.0 in /Users/vasilijdronov/opt/miniconda3/lib/python3.7/site-packages (from scikit-learn!=0.22.0->lightgbm) (2.2.0)\n",
      "Requirement already satisfied: joblib>=0.11 in /Users/vasilijdronov/opt/miniconda3/lib/python3.7/site-packages (from scikit-learn!=0.22.0->lightgbm) (1.0.1)\n",
      "Installing collected packages: lightgbm\n",
      "Successfully installed lightgbm-3.3.0\n",
      "\u001b[33mWARNING: You are using pip version 21.2.4; however, version 21.3 is available.\n",
      "You should consider upgrading via the '/Users/vasilijdronov/opt/miniconda3/bin/python -m pip install --upgrade pip' command.\u001b[0m\n",
      "Collecting catboost\n",
      "  Downloading catboost-1.0.0-cp37-none-macosx_10_6_intel.macosx_10_9_intel.macosx_10_9_x86_64.macosx_10_10_intel.macosx_10_10_x86_64.whl (12.9 MB)\n",
      "\u001b[K     |████████████████████████████████| 12.9 MB 2.5 MB/s eta 0:00:01\n",
      "\u001b[?25hRequirement already satisfied: six in /Users/vasilijdronov/opt/miniconda3/lib/python3.7/site-packages (from catboost) (1.14.0)\n",
      "Collecting graphviz\n",
      "  Downloading graphviz-0.17-py3-none-any.whl (18 kB)\n",
      "Requirement already satisfied: matplotlib in /Users/vasilijdronov/opt/miniconda3/lib/python3.7/site-packages (from catboost) (3.4.3)\n",
      "Requirement already satisfied: pandas>=0.24.0 in /Users/vasilijdronov/opt/miniconda3/lib/python3.7/site-packages (from catboost) (1.1.3)\n",
      "Collecting plotly\n",
      "  Downloading plotly-5.3.1-py2.py3-none-any.whl (23.9 MB)\n",
      "\u001b[K     |████████████████████████████████| 23.9 MB 3.1 MB/s eta 0:00:01    |█████████▌                      | 7.1 MB 2.5 MB/s eta 0:00:07\n",
      "\u001b[?25hRequirement already satisfied: numpy>=1.16.0 in /Users/vasilijdronov/opt/miniconda3/lib/python3.7/site-packages (from catboost) (1.19.1)\n",
      "Requirement already satisfied: scipy in /Users/vasilijdronov/opt/miniconda3/lib/python3.7/site-packages (from catboost) (1.7.1)\n",
      "Requirement already satisfied: python-dateutil>=2.7.3 in /Users/vasilijdronov/opt/miniconda3/lib/python3.7/site-packages (from pandas>=0.24.0->catboost) (2.8.1)\n",
      "Requirement already satisfied: pytz>=2017.2 in /Users/vasilijdronov/opt/miniconda3/lib/python3.7/site-packages (from pandas>=0.24.0->catboost) (2020.1)\n",
      "Requirement already satisfied: pyparsing>=2.2.1 in /Users/vasilijdronov/opt/miniconda3/lib/python3.7/site-packages (from matplotlib->catboost) (2.4.7)\n",
      "Requirement already satisfied: cycler>=0.10 in /Users/vasilijdronov/opt/miniconda3/lib/python3.7/site-packages (from matplotlib->catboost) (0.10.0)\n",
      "Requirement already satisfied: kiwisolver>=1.0.1 in /Users/vasilijdronov/opt/miniconda3/lib/python3.7/site-packages (from matplotlib->catboost) (1.3.2)\n",
      "Requirement already satisfied: pillow>=6.2.0 in /Users/vasilijdronov/opt/miniconda3/lib/python3.7/site-packages (from matplotlib->catboost) (8.3.2)\n",
      "Collecting tenacity>=6.2.0\n",
      "  Downloading tenacity-8.0.1-py3-none-any.whl (24 kB)\n",
      "Installing collected packages: tenacity, plotly, graphviz, catboost\n",
      "Successfully installed catboost-1.0.0 graphviz-0.17 plotly-5.3.1 tenacity-8.0.1\n",
      "\u001b[33mWARNING: You are using pip version 21.2.4; however, version 21.3 is available.\n",
      "You should consider upgrading via the '/Users/vasilijdronov/opt/miniconda3/bin/python -m pip install --upgrade pip' command.\u001b[0m\n",
      "Collecting xgboost\n",
      "  Downloading xgboost-1.4.2-py3-none-macosx_10_14_x86_64.macosx_10_15_x86_64.macosx_11_0_x86_64.whl (1.2 MB)\n",
      "\u001b[K     |████████████████████████████████| 1.2 MB 3.5 MB/s eta 0:00:01     |████████████████                | 614 kB 3.5 MB/s eta 0:00:01\n",
      "\u001b[?25hRequirement already satisfied: numpy in /Users/vasilijdronov/opt/miniconda3/lib/python3.7/site-packages (from xgboost) (1.19.1)\n",
      "Requirement already satisfied: scipy in /Users/vasilijdronov/opt/miniconda3/lib/python3.7/site-packages (from xgboost) (1.7.1)\n",
      "Installing collected packages: xgboost\n",
      "Successfully installed xgboost-1.4.2\n",
      "\u001b[33mWARNING: You are using pip version 21.2.4; however, version 21.3 is available.\n",
      "You should consider upgrading via the '/Users/vasilijdronov/opt/miniconda3/bin/python -m pip install --upgrade pip' command.\u001b[0m\n"
     ]
    }
   ],
   "source": [
    "!pip install lightgbm\n",
    "!pip install catboost\n",
    "!pip install xgboost"
   ]
  },
  {
   "cell_type": "markdown",
   "metadata": {},
   "source": [
    "1. Примените модели для нашего датасета.\n",
    "\n",
    "2. Для стандартного набора параметров у каждой модели нарисуйте `ROC` кривую и выведите `AUC` и `accuracy`.\n",
    "\n",
    "3. Посчитайте время обучения каждой модели (можно использовать [timeit magic](https://ipython.readthedocs.io/en/stable/interactive/magics.html#magic-timeit)).\n",
    "\n",
    "4. Сравните метрики качества и скорость обучения моделей. Какие выводы можно сделать?"
   ]
  },
  {
   "cell_type": "code",
   "execution_count": 1,
   "metadata": {},
   "outputs": [],
   "source": [
    "# YOUR_CODE"
   ]
  },
  {
   "cell_type": "markdown",
   "metadata": {},
   "source": [
    "_Ваш ответ_"
   ]
  }
 ],
 "metadata": {
  "kernelspec": {
   "display_name": "Python 3",
   "language": "python",
   "name": "python3"
  },
  "language_info": {
   "codemirror_mode": {
    "name": "ipython",
    "version": 3
   },
   "file_extension": ".py",
   "mimetype": "text/x-python",
   "name": "python",
   "nbconvert_exporter": "python",
   "pygments_lexer": "ipython3",
   "version": "3.7.6"
  }
 },
 "nbformat": 4,
 "nbformat_minor": 2
}
